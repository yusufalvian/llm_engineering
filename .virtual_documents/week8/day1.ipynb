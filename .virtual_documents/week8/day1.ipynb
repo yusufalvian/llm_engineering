





# Just one import to start with!!

import modal





# Remove the '# ' from the next line and run the cell
# !modal setup


from hello import app, hello


with app.run():
    reply=hello.local()
reply


with app.run():
    reply=hello.remote()
reply





from llama import app, generate


with modal.enable_output():
    with app.run():
        result=generate.remote("Life is a mystery, everyone must stand alone, I hear")
result


import modal
from pricer_ephemeral import app, price


with modal.enable_output():
    with app.run():
        result=price.remote("Quadcast HyperX condenser mic, connects via usb-c to your computer for crystal clear audio")
result





!modal deploy pricer_service


pricer = modal.Function.lookup("pricer-service", "price")


pricer.remote("Quadcast HyperX condenser mic, connects via usb-c to your computer for crystal clear audio")


# You can also run "modal deploy pricer_service2" at the command line in an activated environment
!modal deploy pricer_service2


Pricer = modal.Cls.lookup("pricer-service", "Pricer")
pricer = Pricer()
reply = pricer.price.remote("Quadcast HyperX condenser mic, connects via usb-c to your computer for crystal clear audio")
print(reply)








from agents.specialist_agent import SpecialistAgent


agent = SpecialistAgent()
agent.price("iPad Pro 2nd generation")



